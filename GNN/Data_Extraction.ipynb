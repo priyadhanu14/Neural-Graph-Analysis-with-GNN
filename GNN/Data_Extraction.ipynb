{
 "cells": [
  {
   "cell_type": "code",
   "execution_count": null,
   "metadata": {},
   "outputs": [],
   "source": [
    "import pandas as pd\n",
    "import numpy as np\n",
    "import h5py\n",
    "import xml.etree.ElementTree as ET\n",
    "import matplotlib.pyplot as plt\n",
    "from scipy.sparse import csr_matrix"
   ]
  },
  {
   "cell_type": "code",
   "execution_count": null,
   "metadata": {},
   "outputs": [],
   "source": []
  },
  {
   "cell_type": "code",
   "execution_count": null,
   "metadata": {},
   "outputs": [],
   "source": [
    "def parse_grampml(file_path):\n",
    "    tree = ET.parse(file_path)\n",
    "    root = tree.getroot()\n",
    "    \n",
    "    neurons = []\n",
    "    for neuron in root.findall(\".//neuron\"):\n",
    "        neuron_id = int(neuron.get(\"id\"))\n",
    "        xloc = float(neuron.get(\"xloc\"))\n",
    "        yloc = float(neuron.get(\"yloc\"))\n",
    "        neuron_type = int(neuron.get(\"type\"))\n",
    "        active = int(neuron.get(\"active\"))\n",
    "        neurons.append([neuron_id, xloc, yloc, neuron_type, active])\n",
    "    \n",
    "    df_neurons = pd.DataFrame(neurons, columns=[\"NeuronID\", \"XLOC\", \"YLOC\", \"TYPE\", \"ACTIVE\"])\n",
    "    return df_neurons"
   ]
  }
 ],
 "metadata": {
  "kernelspec": {
   "display_name": "env_pytorch",
   "language": "python",
   "name": "python3"
  },
  "language_info": {
   "name": "python",
   "version": "3.6.13"
  }
 },
 "nbformat": 4,
 "nbformat_minor": 2
}
